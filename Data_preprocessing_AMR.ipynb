{
  "nbformat": 4,
  "nbformat_minor": 0,
  "metadata": {
    "colab": {
      "name": "Data_preprocessing_AMR.ipynb",
      "provenance": [],
      "collapsed_sections": [],
      "toc_visible": true,
      "machine_shape": "hm"
    },
    "kernelspec": {
      "name": "python3",
      "display_name": "Python 3"
    }
  },
  "cells": [
    {
      "cell_type": "code",
      "metadata": {
        "id": "7Wtyfi6r2O-L",
        "colab_type": "code",
        "colab": {}
      },
      "source": [
        "import pandas as pd\n",
        "import numpy as np\n",
        "from google.colab import drive"
      ],
      "execution_count": 0,
      "outputs": []
    },
    {
      "cell_type": "code",
      "metadata": {
        "id": "BxZGH6mb2WWQ",
        "colab_type": "code",
        "outputId": "94397853-b449-45c2-9d35-2628c6821545",
        "colab": {
          "base_uri": "https://localhost:8080/",
          "height": 35
        }
      },
      "source": [
        "####Mount drive\n",
        "drive.mount('/content/drive')"
      ],
      "execution_count": 0,
      "outputs": [
        {
          "output_type": "stream",
          "text": [
            "Drive already mounted at /content/drive; to attempt to forcibly remount, call drive.mount(\"/content/drive\", force_remount=True).\n"
          ],
          "name": "stdout"
        }
      ]
    },
    {
      "cell_type": "code",
      "metadata": {
        "id": "9h5fe9jv3kNk",
        "colab_type": "code",
        "colab": {}
      },
      "source": [
        "### Load data\n",
        "review_score=pd.read_csv(\"/content/drive/Shared drives/Chula Drive/Datasets/AnimeRec-w  review/reviews.csv\")\n",
        "anime=pd.read_csv(\"/content/drive/Shared drives/Chula Drive/Datasets/AnimeRec-w  review/animes.csv\")"
      ],
      "execution_count": 0,
      "outputs": []
    },
    {
      "cell_type": "code",
      "metadata": {
        "id": "Abp0LzbquAJ7",
        "colab_type": "code",
        "colab": {}
      },
      "source": [
        "### drop unused data and change col name\n",
        "anime=anime.drop(columns=[\"synopsis\",\"genre\",\"aired\",\"episodes\",\"members\",\"popularity\",\"ranked\",\"score\",\"img_url\",\"link\"])\n",
        "anime=anime.rename(columns={\"uid\":\"anime_uid\"})"
      ],
      "execution_count": 0,
      "outputs": []
    },
    {
      "cell_type": "code",
      "metadata": {
        "id": "_y15lQ-c6bgq",
        "colab_type": "code",
        "colab": {}
      },
      "source": [
        "### we limit the uid that we want to analyse to less than 1000000 and drop the unused col\n",
        "review_score=review_score.drop(index=np.where(review_score[\"uid\"]>100000)[0],columns=[\"profile\",\"text\",\"scores\",\"link\"])\n",
        "\n",
        "### we random value to split between train data and test data\n",
        "random_value_for_train_data=np.random.rand(len(review_score)) < 0.80\n",
        "train_score=review_score[random_value_for_train_data]\n",
        "test_score=review_score[np.logical_not(random_value_for_train_data)]"
      ],
      "execution_count": 0,
      "outputs": []
    },
    {
      "cell_type": "code",
      "metadata": {
        "id": "4dvUdup2srj1",
        "colab_type": "code",
        "outputId": "00b7e67f-c7d2-43b5-efcb-d1a744a61ab3",
        "colab": {
          "base_uri": "https://localhost:8080/",
          "height": 411
        }
      },
      "source": [
        "train_score"
      ],
      "execution_count": 0,
      "outputs": [
        {
          "output_type": "execute_result",
          "data": {
            "text/html": [
              "<div>\n",
              "<style scoped>\n",
              "    .dataframe tbody tr th:only-of-type {\n",
              "        vertical-align: middle;\n",
              "    }\n",
              "\n",
              "    .dataframe tbody tr th {\n",
              "        vertical-align: top;\n",
              "    }\n",
              "\n",
              "    .dataframe thead th {\n",
              "        text-align: right;\n",
              "    }\n",
              "</style>\n",
              "<table border=\"1\" class=\"dataframe\">\n",
              "  <thead>\n",
              "    <tr style=\"text-align: right;\">\n",
              "      <th></th>\n",
              "      <th>uid</th>\n",
              "      <th>anime_uid</th>\n",
              "      <th>score</th>\n",
              "    </tr>\n",
              "  </thead>\n",
              "  <tbody>\n",
              "    <tr>\n",
              "      <th>3</th>\n",
              "      <td>8254</td>\n",
              "      <td>2904</td>\n",
              "      <td>9</td>\n",
              "    </tr>\n",
              "    <tr>\n",
              "      <th>5</th>\n",
              "      <td>10046</td>\n",
              "      <td>2904</td>\n",
              "      <td>10</td>\n",
              "    </tr>\n",
              "    <tr>\n",
              "      <th>8</th>\n",
              "      <td>23791</td>\n",
              "      <td>2904</td>\n",
              "      <td>10</td>\n",
              "    </tr>\n",
              "    <tr>\n",
              "      <th>9</th>\n",
              "      <td>25115</td>\n",
              "      <td>4181</td>\n",
              "      <td>4</td>\n",
              "    </tr>\n",
              "    <tr>\n",
              "      <th>23</th>\n",
              "      <td>86265</td>\n",
              "      <td>4181</td>\n",
              "      <td>9</td>\n",
              "    </tr>\n",
              "    <tr>\n",
              "      <th>...</th>\n",
              "      <td>...</td>\n",
              "      <td>...</td>\n",
              "      <td>...</td>\n",
              "    </tr>\n",
              "    <tr>\n",
              "      <th>192073</th>\n",
              "      <td>29716</td>\n",
              "      <td>123</td>\n",
              "      <td>4</td>\n",
              "    </tr>\n",
              "    <tr>\n",
              "      <th>192074</th>\n",
              "      <td>362</td>\n",
              "      <td>123</td>\n",
              "      <td>9</td>\n",
              "    </tr>\n",
              "    <tr>\n",
              "      <th>192075</th>\n",
              "      <td>196</td>\n",
              "      <td>123</td>\n",
              "      <td>8</td>\n",
              "    </tr>\n",
              "    <tr>\n",
              "      <th>192076</th>\n",
              "      <td>391</td>\n",
              "      <td>123</td>\n",
              "      <td>10</td>\n",
              "    </tr>\n",
              "    <tr>\n",
              "      <th>192077</th>\n",
              "      <td>8582</td>\n",
              "      <td>123</td>\n",
              "      <td>9</td>\n",
              "    </tr>\n",
              "  </tbody>\n",
              "</table>\n",
              "<p>37893 rows × 3 columns</p>\n",
              "</div>"
            ],
            "text/plain": [
              "          uid  anime_uid  score\n",
              "3        8254       2904      9\n",
              "5       10046       2904     10\n",
              "8       23791       2904     10\n",
              "9       25115       4181      4\n",
              "23      86265       4181      9\n",
              "...       ...        ...    ...\n",
              "192073  29716        123      4\n",
              "192074    362        123      9\n",
              "192075    196        123      8\n",
              "192076    391        123     10\n",
              "192077   8582        123      9\n",
              "\n",
              "[37893 rows x 3 columns]"
            ]
          },
          "metadata": {
            "tags": []
          },
          "execution_count": 153
        }
      ]
    },
    {
      "cell_type": "code",
      "metadata": {
        "id": "Hz2O8ifL6fSn",
        "colab_type": "code",
        "colab": {}
      },
      "source": [
        "### this box is to change the column name from unique id to the real anime name for us to see easier what have we got from the prediction\n",
        "\n",
        "### we merge two dataframe with key is anime_uid\n",
        "train_score_matrix=pd.merge(train_score,anime,on=\"anime_uid\")\n",
        "test_score_matrix=pd.merge(test_score,anime,on=\"anime_uid\")\n",
        "\n",
        "### we drop the uid so the only thing left is anime title so we then rename the title\n",
        "train_score_matrix=train_score_matrix.drop(columns=\"anime_uid\")\n",
        "train_score_matrix=train_score_matrix.rename(columns={\"title\":\"anime_name\"})\n",
        "test_score_matrix=test_score_matrix.drop(columns=\"anime_uid\")\n",
        "test_score_matrix=test_score_matrix.rename(columns={\"title\":\"anime_name\"})"
      ],
      "execution_count": 0,
      "outputs": []
    },
    {
      "cell_type": "code",
      "metadata": {
        "id": "hScR5bZsjqbd",
        "colab_type": "code",
        "colab": {}
      },
      "source": [
        "### we then swap the user unique id to be the index instead of the old index and fill the NaN with 0\n",
        "train_score_matrix=pd.pivot_table(train_score_matrix,values=\"score\",index=\"uid\",columns=\"anime_name\",fill_value=0)\n",
        "test_score_matrix=pd.pivot_table(test_score_matrix,values=\"score\",index=\"uid\",columns=\"anime_name\",fill_value=0)"
      ],
      "execution_count": 0,
      "outputs": []
    },
    {
      "cell_type": "code",
      "metadata": {
        "id": "GTaGVzivJ83b",
        "colab_type": "code",
        "colab": {}
      },
      "source": [
        "train_score_matrix.to_csv(\"/content/drive/Shared drives/Chula Drive/Datasets/AnimeRec-w  review/train_expli_matrix\")\n",
        "test_score_matrix.to_csv(\"/content/drive/Shared drives/Chula Drive/Datasets/AnimeRec-w  review/test_expli_matrix\")"
      ],
      "execution_count": 0,
      "outputs": []
    }
  ]
}