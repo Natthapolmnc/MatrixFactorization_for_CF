{
  "nbformat": 4,
  "nbformat_minor": 0,
  "metadata": {
    "colab": {
      "name": "MF_CF.ipynb",
      "provenance": [],
      "collapsed_sections": []
    },
    "kernelspec": {
      "name": "python3",
      "display_name": "Python 3"
    },
    "accelerator": "GPU"
  },
  "cells": [
    {
      "cell_type": "code",
      "metadata": {
        "id": "WREi4Eb0fK1X",
        "colab_type": "code",
        "outputId": "bd05adea-d165-456e-a4c0-d4f243220e03",
        "colab": {
          "base_uri": "https://localhost:8080/",
          "height": 35
        }
      },
      "source": [
        "%tensorflow_version 2.x"
      ],
      "execution_count": 0,
      "outputs": [
        {
          "output_type": "stream",
          "text": [
            "TensorFlow 2.x selected.\n"
          ],
          "name": "stdout"
        }
      ]
    },
    {
      "cell_type": "code",
      "metadata": {
        "id": "g53cNxO3UmEO",
        "colab_type": "code",
        "colab": {}
      },
      "source": [
        "import pandas as pd\n",
        "from tqdm import trange\n",
        "import matplotlib.pyplot as plt\n",
        "import tensorflow as tf\n",
        "import numpy as np\n",
        "from google.colab import drive"
      ],
      "execution_count": 0,
      "outputs": []
    },
    {
      "cell_type": "code",
      "metadata": {
        "id": "a0V2AlWMaqjr",
        "colab_type": "code",
        "outputId": "0361cb9e-af7a-431d-8272-fb4e7f7b523a",
        "colab": {
          "base_uri": "https://localhost:8080/",
          "height": 126
        }
      },
      "source": [
        "## Mount Drive\n",
        "drive.mount(\"/content/drive\")"
      ],
      "execution_count": 0,
      "outputs": [
        {
          "output_type": "stream",
          "text": [
            "Go to this URL in a browser: https://accounts.google.com/o/oauth2/auth?client_id=947318989803-6bn6qk8qdgf4n4g3pfee6491hc0brc4i.apps.googleusercontent.com&redirect_uri=urn%3aietf%3awg%3aoauth%3a2.0%3aoob&response_type=code&scope=email%20https%3a%2f%2fwww.googleapis.com%2fauth%2fdocs.test%20https%3a%2f%2fwww.googleapis.com%2fauth%2fdrive%20https%3a%2f%2fwww.googleapis.com%2fauth%2fdrive.photos.readonly%20https%3a%2f%2fwww.googleapis.com%2fauth%2fpeopleapi.readonly\n",
            "\n",
            "Enter your authorization code:\n",
            "··········\n",
            "Mounted at /content/drive\n"
          ],
          "name": "stdout"
        }
      ]
    },
    {
      "cell_type": "code",
      "metadata": {
        "id": "hVT5yAUxy_QA",
        "colab_type": "code",
        "colab": {}
      },
      "source": [
        "## create custom Model via keras\n",
        "class MatrixFactorizor(tf.keras.Model):\n",
        "  def __init__(self,embed_size):\n",
        "    super(MatrixFactorizor, self).__init__()\n",
        "    self.embed_size=embed_size\n",
        "    self.MF=MFlayer(embed_size=self.embed_size)\n",
        "    self.step_func=tf.keras.activations.relu\n",
        "  \n",
        "  def call(self,input):\n",
        "    output=self.MF(input)\n",
        "    output=self.step_func(output)\n",
        "    return output\n",
        "\n",
        "## custom layer via keras\n",
        "class MFlayer(tf.keras.layers.Layer):\n",
        "\n",
        "  def __init__(self,embed_size):\n",
        "    super(MFlayer,self).__init__()\n",
        "    self.embed_size=embed_size\n",
        "  \n",
        "  def build(self,input_size):\n",
        "    len_user,len_item=input_size\n",
        "    ## init user latent=random tensor from gaussian dist.\n",
        "    self.user_latent=self.add_weight(\"user_latent\",shape=[len_user,self.embed_size],dtype=tf.float32,initializer=tf.initializers.RandomNormal)\n",
        "    ## init item latent=random tensor from gaussian dist.\n",
        "    self.item_latent=self.add_weight(\"item_latent\",shape=[self.embed_size,len_item],dtype=tf.float32,initializer=tf.initializers.RandomNormal)\n",
        "    ## init bias unique for the user and same for item\n",
        "    self.user_bias=self.add_weight(\"user_bias\",shape=[len_user],dtype=tf.float32,initializer=tf.initializers.Zeros)\n",
        "    ## init bias unique for the item and same for user\n",
        "    self.item_bias=self.add_weight(\"item_bias\",shape=[len_item],dtype=tf.float32,initializer=tf.initializers.Zeros)\n",
        "    ## init bias unique for the item and same for user\n",
        "    self.global_bias=self.add_weight(\"global_bias\",shape=[],dtype=tf.float32,initializer=tf.initializers.Zeros)\n",
        "\n",
        "  def call(self,input):\n",
        "    return tf.add(tf.add(tf.matmul(self.user_latent,self.item_latent),tf.expand_dims(self.user_bias,axis=1)),tf.expand_dims(self.item_bias,axis=0)+self.global_bias)\n",
        "\n",
        "## cost func\n",
        "def cost_fn(source, target,regularizer):\n",
        "  mse = tf.keras.losses.MeanSquaredError()\n",
        "  cost = mse(source, target)\n",
        "  return tf.add(cost,regularizer)\n",
        "\n",
        "def get_userLatent(model):\n",
        "    return model.weights[0]\n",
        "\n",
        "def get_itemLatent(model):\n",
        "    return model.weights[1]\n",
        "\n",
        "def mse(source, target):\n",
        "  mse = tf.keras.losses.MeanSquaredError()\n",
        "  loss = mse(source, target)\n",
        "  return loss\n"
      ],
      "execution_count": 0,
      "outputs": []
    },
    {
      "cell_type": "code",
      "metadata": {
        "id": "uLxRN4VKSRxx",
        "colab_type": "code",
        "colab": {}
      },
      "source": [
        "### Load Data\n",
        "expli_train=pd.read_csv(\"/content/drive/Shared drives/Chula Drive/Datasets/AnimeRec-w  review/train_expli_matrix\")\n",
        "expli_train=expli_train.set_index(\"uid\")\n",
        "expli_test=pd.read_csv(\"/content/drive/Shared drives/Chula Drive/Datasets/AnimeRec-w  review/test_expli_matrix\")\n",
        "expli_test=expli_test.set_index(\"uid\")\n",
        "\n",
        "embed_size=6\n",
        "\n",
        "model=MatrixFactorizor(embed_size=embed_size)\n",
        "model.build(expli_train.shape)"
      ],
      "execution_count": 0,
      "outputs": []
    },
    {
      "cell_type": "code",
      "metadata": {
        "id": "wxrRO2yHbEt3",
        "colab_type": "code",
        "outputId": "f89ff844-a79c-42e5-f526-ba5c9dafaa82",
        "colab": {
          "base_uri": "https://localhost:8080/",
          "height": 195
        }
      },
      "source": [
        "model.summary()"
      ],
      "execution_count": 0,
      "outputs": [
        {
          "output_type": "stream",
          "text": [
            "Model: \"matrix_factorizor_1\"\n",
            "_________________________________________________________________\n",
            "Layer (type)                 Output Shape              Param #   \n",
            "=================================================================\n",
            "m_flayer_1 (MFlayer)         multiple                  224750    \n",
            "=================================================================\n",
            "Total params: 224,750\n",
            "Trainable params: 224,750\n",
            "Non-trainable params: 0\n",
            "_________________________________________________________________\n"
          ],
          "name": "stdout"
        }
      ]
    },
    {
      "cell_type": "code",
      "metadata": {
        "id": "rZi7udZkr5oY",
        "colab_type": "code",
        "outputId": "3220ca3d-5c7a-4f62-e23a-614abf0bf37a",
        "colab": {
          "base_uri": "https://localhost:8080/",
          "height": 35
        }
      },
      "source": [
        "voted_train=tf.gather(expli_train.values.flatten(),indices=np.where(expli_train.values.flatten()>0))\n",
        "voted_train"
      ],
      "execution_count": 0,
      "outputs": [
        {
          "output_type": "execute_result",
          "data": {
            "text/plain": [
              "<tf.Tensor: shape=(1, 28554), dtype=int64, numpy=array([[10,  8, 10, ..., 10,  9, 10]])>"
            ]
          },
          "metadata": {
            "tags": []
          },
          "execution_count": 20
        }
      ]
    },
    {
      "cell_type": "code",
      "metadata": {
        "id": "_D-K1DK5c1aY",
        "colab_type": "code",
        "outputId": "69b6e1b2-2f11-48d2-8492-26f0a5e3f579",
        "colab": {
          "base_uri": "https://localhost:8080/",
          "height": 386
        }
      },
      "source": [
        "### save to plot\n",
        "losses=[]\n",
        "steps=[]\n",
        "\n",
        "### train (trange is just range with progress bar from tqdm module)\n",
        "\n",
        "optimizer=tf.optimizers.Adam(learning_rate=0.05)\n",
        "for i in trange(500, desc=\"epoch\"):\n",
        "   with tf.GradientTape() as tape:\n",
        "    predicted=model(expli_train)\n",
        "    voted_train_predicted=tf.gather(tf.reshape(predicted,[-1]),indices=np.where(expli_train.values.flatten()>0))\n",
        "    regularize=tf.multiply(tf.add(tf.reduce_sum(tf.abs(get_userLatent(model))),tf.reduce_sum(tf.abs(get_itemLatent(model)))),0.001)\n",
        "    loss=cost_fn(voted_train,voted_train_predicted,regularize)\n",
        "    if i%100==0:\n",
        "      losses.append(loss.numpy())\n",
        "      steps.append(i)\n",
        "      print(\"step: \"+str(i)+\",loss: \"+str(loss.numpy()))\n",
        "   variables=model.trainable_weights\n",
        "   gradient=tape.gradient(loss,variables)\n",
        "   optimizer.apply_gradients(zip(gradient,variables))\n",
        "\n",
        "# plot training loss\n",
        "plt.plot(steps, losses, marker=\"o\")\n",
        "plt.xlabel(\"steps\")\n",
        "plt.ylabel(\"loss\")\n",
        "plt.show()"
      ],
      "execution_count": 0,
      "outputs": [
        {
          "output_type": "stream",
          "text": [
            "epoch:   0%|          | 1/500 [00:00<03:53,  2.13it/s]"
          ],
          "name": "stderr"
        },
        {
          "output_type": "stream",
          "text": [
            "step: 0,loss: 51.67245\n"
          ],
          "name": "stdout"
        },
        {
          "output_type": "stream",
          "text": [
            "epoch:  20%|██        | 101/500 [00:46<03:01,  2.19it/s]"
          ],
          "name": "stderr"
        },
        {
          "output_type": "stream",
          "text": [
            "step: 100,loss: 1.3820761\n"
          ],
          "name": "stdout"
        },
        {
          "output_type": "stream",
          "text": [
            "epoch:  40%|████      | 201/500 [01:32<02:18,  2.16it/s]"
          ],
          "name": "stderr"
        },
        {
          "output_type": "stream",
          "text": [
            "step: 200,loss: 1.1042273\n"
          ],
          "name": "stdout"
        },
        {
          "output_type": "stream",
          "text": [
            "epoch:  60%|██████    | 301/500 [02:17<01:31,  2.18it/s]"
          ],
          "name": "stderr"
        },
        {
          "output_type": "stream",
          "text": [
            "step: 300,loss: 1.1212059\n"
          ],
          "name": "stdout"
        },
        {
          "output_type": "stream",
          "text": [
            "epoch:  80%|████████  | 401/500 [03:03<00:45,  2.17it/s]"
          ],
          "name": "stderr"
        },
        {
          "output_type": "stream",
          "text": [
            "step: 400,loss: 1.2231749\n"
          ],
          "name": "stdout"
        },
        {
          "output_type": "stream",
          "text": [
            "epoch: 100%|██████████| 500/500 [03:49<00:00,  2.18it/s]\n"
          ],
          "name": "stderr"
        },
        {
          "output_type": "display_data",
          "data": {
            "image/png": "[encoded data removed]",
            "text/plain": [
              "<Figure size 432x288 with 1 Axes>"
            ]
          },
          "metadata": {
            "tags": []
          }
        }
      ]
    },
    {
      "cell_type": "code",
      "metadata": {
        "id": "MbfcXprrviz8",
        "colab_type": "code",
        "outputId": "3b948718-a2ca-43e5-a64b-3809b2404eaf",
        "colab": {
          "base_uri": "https://localhost:8080/",
          "height": 35
        }
      },
      "source": [
        "test_value=expli_test.values.flatten()\n",
        "voted_test_val=tf.gather(test_value,indices=np.where(test_value>0))\n",
        "predicted=model(expli_train)\n",
        "predicted_test=tf.gather(tf.reshape(predicted,[-1]),indices=np.where(test_value>0))\n",
        "\n",
        "mse(voted_test_val,predicted_test).numpy()"
      ],
      "execution_count": 0,
      "outputs": [
        {
          "output_type": "execute_result",
          "data": {
            "text/plain": [
              "8.00042"
            ]
          },
          "metadata": {
            "tags": []
          },
          "execution_count": 27
        }
      ]
    },
    {
      "cell_type": "code",
      "metadata": {
        "id": "cA1KhEgPo6K_",
        "colab_type": "code",
        "outputId": "da3083cb-9253-49ef-cd61-690fbb2bc61d",
        "colab": {
          "base_uri": "https://localhost:8080/",
          "height": 70
        }
      },
      "source": [
        "predicted_test"
      ],
      "execution_count": 0,
      "outputs": [
        {
          "output_type": "execute_result",
          "data": {
            "text/plain": [
              "<tf.Tensor: shape=(1, 8909), dtype=float32, numpy=\n",
              "array([[9.558413 , 7.1410494, 7.141265 , ..., 5.3226366, 7.637968 ,\n",
              "        7.145439 ]], dtype=float32)>"
            ]
          },
          "metadata": {
            "tags": []
          },
          "execution_count": 28
        }
      ]
    },
    {
      "cell_type": "code",
      "metadata": {
        "id": "L6COUJ0n3aL4",
        "colab_type": "code",
        "outputId": "3f7575eb-6ff8-475d-8cfe-7c94b0d51e22",
        "colab": {
          "base_uri": "https://localhost:8080/",
          "height": 35
        }
      },
      "source": [
        "voted_test_val"
      ],
      "execution_count": 0,
      "outputs": [
        {
          "output_type": "execute_result",
          "data": {
            "text/plain": [
              "<tf.Tensor: shape=(1, 8909), dtype=int64, numpy=array([[10,  7, 10, ..., 10, 10, 10]])>"
            ]
          },
          "metadata": {
            "tags": []
          },
          "execution_count": 29
        }
      ]
    },
    {
      "cell_type": "code",
      "metadata": {
        "id": "c02FbUqWBvM7",
        "colab_type": "code",
        "colab": {}
      },
      "source": [
        ""
      ],
      "execution_count": 0,
      "outputs": []
    }
  ]
}